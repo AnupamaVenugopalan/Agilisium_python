{
 "cells": [
  {
   "cell_type": "code",
   "execution_count": 4,
   "metadata": {},
   "outputs": [
    {
     "data": {
      "text/plain": [
       "'\\na=7\\nb=10\\nprint(a+b)\\n'"
      ]
     },
     "execution_count": 4,
     "metadata": {},
     "output_type": "execute_result"
    }
   ],
   "source": [
    "'''\n",
    "a=7\n",
    "b=10\n",
    "print(a+b)\n",
    "'''"
   ]
  },
  {
   "cell_type": "code",
   "execution_count": 5,
   "metadata": {},
   "outputs": [],
   "source": [
    "#datatypes\n",
    "a=10#int\n",
    "name=\"apple\"#string\n",
    "pi=3.14#float\n",
    "b=True#bool\n"
   ]
  },
  {
   "cell_type": "code",
   "execution_count": 9,
   "metadata": {},
   "outputs": [
    {
     "name": "stdout",
     "output_type": "stream",
     "text": [
      "True\n"
     ]
    }
   ],
   "source": [
    "print(b)"
   ]
  },
  {
   "cell_type": "code",
   "execution_count": 22,
   "metadata": {},
   "outputs": [
    {
     "name": "stdout",
     "output_type": "stream",
     "text": [
      "hello world\n"
     ]
    }
   ],
   "source": [
    "print(\"hello world\")"
   ]
  },
  {
   "cell_type": "code",
   "execution_count": 19,
   "metadata": {},
   "outputs": [
    {
     "data": {
      "text/plain": [
       "str"
      ]
     },
     "execution_count": 19,
     "metadata": {},
     "output_type": "execute_result"
    }
   ],
   "source": [
    "type(str(a))"
   ]
  },
  {
   "cell_type": "code",
   "execution_count": 28,
   "metadata": {},
   "outputs": [
    {
     "name": "stdout",
     "output_type": "stream",
     "text": [
      "hello apple\n",
      "hello 10\n",
      "---------------------------------\n",
      "hello apple\n",
      "hello 10\n",
      "---------------------------------\n",
      "hello apple\n",
      "hello 10\n",
      "---------------------------------\n",
      "hello apple\n",
      "hello 10\n"
     ]
    }
   ],
   "source": [
    "#hello apple\n",
    "#hello 10\n",
    "\n",
    "#method 1\n",
    "print(\"hello \"+name)\n",
    "print(\"hello \"+str(a))\n",
    "\n",
    "print(\"---------------------------------\")\n",
    "#method 2\n",
    "print(\"hello\",name)\n",
    "print(\"hello\",a)\n",
    "\n",
    "print(\"---------------------------------\")\n",
    "#method 3\n",
    "print(\"hello %s\"%name)\n",
    "print(\"hello %d\"%a)\n",
    "\n",
    "print(\"---------------------------------\")\n",
    "#method 4\n",
    "print(\"hello {}\".format(name))\n",
    "print(\"hello {}\".format(a))"
   ]
  },
  {
   "cell_type": "code",
   "execution_count": null,
   "metadata": {},
   "outputs": [],
   "source": [
    "+ - * / % \n",
    "and or not\n",
    "> < >= <= == !=\n"
   ]
  },
  {
   "cell_type": "code",
   "execution_count": 33,
   "metadata": {},
   "outputs": [
    {
     "name": "stdout",
     "output_type": "stream",
     "text": [
      "492\n"
     ]
    }
   ],
   "source": [
    "n='4'\n",
    "ans=int(n*3)+int(n*2)+int(n)\n",
    "print(ans)"
   ]
  },
  {
   "cell_type": "code",
   "execution_count": 36,
   "metadata": {},
   "outputs": [
    {
     "name": "stdout",
     "output_type": "stream",
     "text": [
      "492\n"
     ]
    }
   ],
   "source": [
    "n=4\n",
    "ans=int(str(n)+str(n)+str(n))+int(str(n)+str(n))+n\n",
    "print(ans)"
   ]
  },
  {
   "cell_type": "code",
   "execution_count": 53,
   "metadata": {},
   "outputs": [
    {
     "name": "stdout",
     "output_type": "stream",
     "text": [
      "Enter the value for num :5\n",
      "odd\n"
     ]
    }
   ],
   "source": [
    "num=int(input(\"Enter the value for num :\"))\n",
    "if num%4==0:\n",
    "    print(\"Divisible by 4 and also even\")\n",
    "elif num%2==0:\n",
    "    print('even')\n",
    "else:\n",
    "    print('odd')"
   ]
  },
  {
   "cell_type": "code",
   "execution_count": 45,
   "metadata": {},
   "outputs": [
    {
     "data": {
      "text/plain": [
       "int"
      ]
     },
     "execution_count": 45,
     "metadata": {},
     "output_type": "execute_result"
    }
   ],
   "source": [
    "type(num)"
   ]
  },
  {
   "cell_type": "code",
   "execution_count": null,
   "metadata": {},
   "outputs": [],
   "source": [
    "The area of the circle with radius 5 cm is 80 sq.cm"
   ]
  },
  {
   "cell_type": "markdown",
   "metadata": {},
   "source": [
    "#### Play rock paper scissors lizard spock\n",
    "\n",
    "Scissors cuts paper.<br>\n",
    "Paper covers rock.<br>\n",
    "Rock crushes lizard.<br>\n",
    "Lizard poisons Spock.<br>\n",
    "Spock smashes scissors.<br>\n",
    "Scissors decapitates lizard.<br>\n",
    "Lizard eats paper.<br> \n",
    "Paper disproves Spock.<br> \n",
    "Spock vaporizes rock.<br> \n",
    "Rock crushes scissors.<br> "
   ]
  },
  {
   "cell_type": "code",
   "execution_count": 59,
   "metadata": {},
   "outputs": [
    {
     "name": "stdout",
     "output_type": "stream",
     "text": [
      "Enter the value for num :78\n",
      "even\n",
      "Enter the value for num :96\n",
      "Divisible by 4 and also even\n",
      "Enter the value for num :10\n",
      "even\n",
      "Enter the value for num :25\n",
      "skipping...\n",
      "Enter the value for num :10\n",
      "even\n",
      "Enter the value for num :20\n",
      "Divisible by 4 and also even\n",
      "Enter the value for num :12\n",
      "Divisible by 4 and also even\n",
      "Enter the value for num :10\n",
      "even\n",
      "Enter the value for num :15\n",
      "Goodbye...\n",
      "Count : 3\n"
     ]
    }
   ],
   "source": [
    "cnt=0\n",
    "while True:\n",
    "    num=int(input(\"Enter the value for num :\"))\n",
    "    if num==15:\n",
    "        print(\"Goodbye...\")\n",
    "        break\n",
    "    elif num==25:\n",
    "        print(\"skipping...\")\n",
    "        continue\n",
    "    elif num==10:\n",
    "        cnt+=1\n",
    "        pass\n",
    "    if num%4==0:\n",
    "        print(\"Divisible by 4 and also even\")\n",
    "    elif num%2==0:\n",
    "        print('even')\n",
    "    else:\n",
    "        print('odd')\n",
    "\n",
    "print(\"Count :\",cnt)"
   ]
  },
  {
   "cell_type": "code",
   "execution_count": null,
   "metadata": {},
   "outputs": [],
   "source": [
    "https://github.com/sharmasaravanan/Agilisium_python\n",
    "    \n",
    "https://github.com/sharmasaravanan/Machine_learning"
   ]
  },
  {
   "cell_type": "code",
   "execution_count": null,
   "metadata": {},
   "outputs": [],
   "source": [
    "string function\n",
    "list\n",
    "tuple\n",
    "for loop"
   ]
  }
 ],
 "metadata": {
  "kernelspec": {
   "display_name": "Python 3",
   "language": "python",
   "name": "python3"
  },
  "language_info": {
   "codemirror_mode": {
    "name": "ipython",
    "version": 3
   },
   "file_extension": ".py",
   "mimetype": "text/x-python",
   "name": "python",
   "nbconvert_exporter": "python",
   "pygments_lexer": "ipython3",
   "version": "3.6.5"
  }
 },
 "nbformat": 4,
 "nbformat_minor": 2
}
